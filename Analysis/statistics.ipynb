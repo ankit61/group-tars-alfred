{
 "metadata": {
  "language_info": {
   "codemirror_mode": {
    "name": "ipython",
    "version": 3
   },
   "file_extension": ".py",
   "mimetype": "text/x-python",
   "name": "python",
   "nbconvert_exporter": "python",
   "pygments_lexer": "ipython3",
   "version": "3.6.8-final"
  },
  "orig_nbformat": 2,
  "kernelspec": {
   "name": "python3",
   "display_name": "Python 3.6.8 64-bit ('tars-env')",
   "metadata": {
    "interpreter": {
     "hash": "bac12fe466a944f533b19a5350aef698ea50a6c5fa8f0dcdfc904a7a6c3fbffd"
    }
   }
  }
 },
 "nbformat": 4,
 "nbformat_minor": 2,
 "cells": [
  {
   "cell_type": "code",
   "execution_count": null,
   "metadata": {},
   "outputs": [],
   "source": [
    "import numpy as np\n",
    "import matplotlib\n",
    "import json\n",
    "import pandas as pd\n",
    "import os\n",
    "from collections import defaultdict\n",
    "from nltk.tokenize import word_tokenize\n"
   ]
  },
  {
   "cell_type": "code",
   "execution_count": null,
   "metadata": {},
   "outputs": [],
   "source": [
    "def get_num_tokens(text):\n",
    "    return len(word_tokenize(text))\n"
   ]
  },
  {
   "cell_type": "code",
   "execution_count": null,
   "metadata": {},
   "outputs": [],
   "source": [
    "splits = [\"train\", \"valid_seen\", \"valid_unseen\"]\n",
    "task_fields = [\"task_type\", \"focus_object\", \"base_object\", \"dest_object\", \"scene\"]\n",
    "data_path = \"../tars/alfred/data/json_2.1.0\"\n",
    "stats_dict = defaultdict(lambda: [])\n",
    "\n",
    "for split in splits:\n",
    "    task_dirs = os.listdir(\"{}/{}\".format(data_path, split))\n",
    "    print(\"{} ({} param sets)\".format(split, len(task_dirs)))\n",
    "    for i, task_dir in enumerate(task_dirs):\n",
    "        if i % 500 == 0:\n",
    "            print(i)\n",
    "        task_values = task_dir.split(\"-\")\n",
    "        if len(task_values) < 5:\n",
    "            print(task_values)\n",
    "\n",
    "        for trial_dir in os.listdir(\"{}/{}/{}\".format(data_path, split, task_dir)):\n",
    "            stats_dict[\"split\"].append(split)\n",
    "            stats_dict[\"task_id\"].append(trial_dir)\n",
    "\n",
    "            for j, field in enumerate(task_fields):\n",
    "                stats_dict[field].append(task_values[j])\n",
    "\n",
    "            traj_data_file = open(\"{}/{}/{}/{}/traj_data.json\".format(data_path, split, task_dir, trial_dir))\n",
    "            traj_data = json.load(traj_data_file)\n",
    "            num_steps_list = []\n",
    "            num_step_tokens_list = []\n",
    "            num_task_tokens_list = []\n",
    "\n",
    "            for directive in traj_data[\"turk_annotations\"][\"anns\"]:\n",
    "                num_steps_list.append(len(directive[\"high_descs\"]))\n",
    "                num_step_tokens_list.append(sum([get_num_tokens(desc) for desc in directive[\"high_descs\"]]))\n",
    "                num_task_tokens_list.append(get_num_tokens(directive[\"task_desc\"]))\n",
    "\n",
    "            stats_dict[\"steps\"].append(round(np.mean(num_steps_list), 2))\n",
    "            stats_dict[\"total_steps_toks\"].append(round(np.mean(num_step_tokens_list), 2))\n",
    "            stats_dict[\"task_toks\"].append(round(np.mean(num_task_tokens_list), 2))\n",
    "            stats_dict[\"images\"].append(len(traj_data[\"images\"]))\n",
    "            stats_dict[\"actions\"].append(len(traj_data[\"plan\"][\"low_actions\"]))\n",
    "            nav_count = 0\n",
    "            interact_count = 0\n",
    "\n",
    "            for action in traj_data[\"plan\"][\"low_actions\"]:\n",
    "                if \"mask\" in action[\"discrete_action\"][\"args\"].keys():\n",
    "                    interact_count += 1\n",
    "                else:\n",
    "                    nav_count += 1\n",
    "\n",
    "            stats_dict[\"nav_actions\"].append(nav_count)\n",
    "            stats_dict[\"interact_actions\"].append(interact_count)\n",
    "\n",
    "\n",
    "stats_df = pd.DataFrame(stats_dict)\n",
    "        \n",
    "  "
   ]
  },
  {
   "cell_type": "code",
   "execution_count": null,
   "metadata": {},
   "outputs": [],
   "source": [
    "stats_df"
   ]
  }
 ]
}