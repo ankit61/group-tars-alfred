{
 "metadata": {
  "language_info": {
   "codemirror_mode": {
    "name": "ipython",
    "version": 3
   },
   "file_extension": ".py",
   "mimetype": "text/x-python",
   "name": "python",
   "nbconvert_exporter": "python",
   "pygments_lexer": "ipython3",
   "version": "3.6.8-final"
  },
  "orig_nbformat": 2,
  "kernelspec": {
   "name": "python3",
   "display_name": "Python 3.6.8 64-bit ('tars-env': venv)",
   "metadata": {
    "interpreter": {
     "hash": "bac12fe466a944f533b19a5350aef698ea50a6c5fa8f0dcdfc904a7a6c3fbffd"
    }
   }
  }
 },
 "nbformat": 4,
 "nbformat_minor": 2,
 "cells": [
  {
   "cell_type": "code",
   "execution_count": 27,
   "metadata": {},
   "outputs": [],
   "source": [
    "import numpy as np\n",
    "import matplotlib\n",
    "import json\n",
    "import pandas as pd\n",
    "import os\n",
    "import spacy\n",
    "from collections import defaultdict\n",
    "from nltk.tokenize import word_tokenize\n"
   ]
  },
  {
   "cell_type": "code",
   "execution_count": 28,
   "metadata": {},
   "outputs": [],
   "source": [
    "def get_num_tokens(text):\n",
    "    # return text.split()\n",
    "    # doc = nlp(text)\n",
    "    # return [tok.text for tok in doc]\n",
    "    return len(word_tokenize(text))\n"
   ]
  },
  {
   "cell_type": "code",
   "execution_count": 33,
   "metadata": {},
   "outputs": [
    {
     "output_type": "stream",
     "name": "stdout",
     "text": [
      "valid_seen\n0\n"
     ]
    }
   ],
   "source": [
    "splits = [\"train\", \"valid_seen\", \"valid_unseen\", \"tests_seen\", \"tests_unseen\"]\n",
    "task_fields = [\"task_type\", \"focus_object\", \"base_object\", \"dest_object\", \"scene\"]\n",
    "stats_dict = defaultdict(lambda: [])\n",
    "data_path = \"../tars/alfred/data/json_2.1.0\"\n",
    "for split in [\"valid_seen\"]:\n",
    "    print(split)\n",
    "    for j, task_dir in enumerate(os.listdir(\"{}/{}\".format(data_path, split))):\n",
    "        if j % 500 == 0:\n",
    "            print(j)\n",
    "        task_values = task_dir.split(\"-\")\n",
    "        if len(task_values) < 5:\n",
    "            print(task_values)\n",
    "        for trial_dir in os.listdir(\"{}/{}/{}\".format(data_path, split, task_dir)):\n",
    "            stats_dict[\"task_id\"].append(trial_dir)\n",
    "            stats_dict[\"split\"].append(split)\n",
    "            for i, field in enumerate(task_fields):\n",
    "                stats_dict[field].append(task_values[i])\n",
    "            traj_data_file = open(\"{}/{}/{}/{}/traj_data.json\".format(data_path, split, task_dir, trial_dir))\n",
    "            traj_data = json.load(traj_data_file)\n",
    "            num_steps_list = []\n",
    "            num_step_tokens_list = []\n",
    "            num_task_tokens_list = []\n",
    "            for directive in traj_data[\"turk_annotations\"][\"anns\"]:\n",
    "                num_steps_list.append(len(directive[\"high_descs\"]))\n",
    "                num_step_tokens_list.append(sum([get_num_tokens(desc) for desc in directive[\"high_descs\"]]))\n",
    "                num_task_tokens_list.append(get_num_tokens(directive[\"task_desc\"]))\n",
    "            stats_dict[\"num_steps\"].append(np.mean(num_steps_list))\n",
    "            stats_dict[\"steps_num_toks\"].append(np.mean(num_step_tokens_list))\n",
    "            stats_dict[\"task_num_toks\"].append(np.mean(num_task_tokens_list))\n",
    "            stats_dict[\"timesteps\"].append(len(traj_data[\"plan\"][\"low_actions\"]))\n",
    "            nav_count = 0\n",
    "            interact_count = 0\n",
    "            for action in traj_data[\"plan\"][\"low_actions\"]:\n",
    "                if \"mask\" in action[\"discrete_action\"][\"args\"].keys():\n",
    "                    interact_count += 1\n",
    "                else:\n",
    "                    nav_count += 1\n",
    "            stats_dict[\"nav_count\"].append(nav_count)\n",
    "            stats_dict[\"interact_count\"].append(interact_count)\n",
    "\n",
    "stats_df = pandas.DataFrame(stats_dict)\n",
    "        \n",
    "\n",
    "\n",
    "\n",
    "\n",
    "\n",
    "  "
   ]
  },
  {
   "cell_type": "code",
   "execution_count": 34,
   "metadata": {},
   "outputs": [
    {
     "output_type": "execute_result",
     "data": {
      "text/plain": [
       "                           task_id       split  \\\n",
       "0    trial_T20190909_121908_219603  valid_seen   \n",
       "1    trial_T20190906_162502_940304  valid_seen   \n",
       "2    trial_T20190907_033843_707544  valid_seen   \n",
       "3    trial_T20190908_134410_550530  valid_seen   \n",
       "4    trial_T20190908_070424_700178  valid_seen   \n",
       "..                             ...         ...   \n",
       "246  trial_T20190909_082320_103350  valid_seen   \n",
       "247  trial_T20190908_033721_967359  valid_seen   \n",
       "248  trial_T20190906_192823_237997  valid_seen   \n",
       "249  trial_T20190908_124829_632660  valid_seen   \n",
       "250  trial_T20190909_020200_054379  valid_seen   \n",
       "\n",
       "                             task_type  focus_object base_object  \\\n",
       "0       pick_clean_then_place_in_recep         Ladle        None   \n",
       "1                pick_and_place_simple         Cloth        None   \n",
       "2               pick_two_obj_and_place   SprayBottle        None   \n",
       "3    pick_and_place_with_movable_recep  TomatoSliced         Pan   \n",
       "4        pick_heat_then_place_in_recep   BreadSliced        None   \n",
       "..                                 ...           ...         ...   \n",
       "246      pick_heat_then_place_in_recep        Tomato        None   \n",
       "247      pick_heat_then_place_in_recep        Tomato        None   \n",
       "248      pick_cool_then_place_in_recep           Cup        None   \n",
       "249              pick_and_place_simple        Tomato        None   \n",
       "250      pick_heat_then_place_in_recep        Tomato        None   \n",
       "\n",
       "      dest_object scene  num_steps  steps_num_toks  task_num_toks  timesteps  \\\n",
       "0      CounterTop     8        6.0       67.333333       7.666667         38   \n",
       "1    BathtubBasin   405        4.0       38.666667       8.666667         28   \n",
       "2          Toilet   429        8.0       89.800000       7.800000         76   \n",
       "3          Fridge    16       13.0      163.000000      13.333333        136   \n",
       "4          Fridge    19       12.0      110.333333      12.000000         92   \n",
       "..            ...   ...        ...             ...            ...        ...   \n",
       "246        Fridge    23        6.0       71.000000      10.000000         61   \n",
       "247        Fridge    24        6.0       76.666667       8.000000         48   \n",
       "248     SideTable    21        6.0      123.000000       9.000000         58   \n",
       "249     Microwave    13        4.0       57.333333       7.000000         29   \n",
       "250        Fridge    15        6.0       88.333333       8.000000         58   \n",
       "\n",
       "     nav_count  interact_count  \n",
       "0           32               6  \n",
       "1           24               4  \n",
       "2           72               4  \n",
       "3          127               9  \n",
       "4           75              17  \n",
       "..         ...             ...  \n",
       "246         47              14  \n",
       "247         36              12  \n",
       "248         50               8  \n",
       "249         25               4  \n",
       "250         44              14  \n",
       "\n",
       "[251 rows x 13 columns]"
      ],
      "text/html": "<div>\n<style scoped>\n    .dataframe tbody tr th:only-of-type {\n        vertical-align: middle;\n    }\n\n    .dataframe tbody tr th {\n        vertical-align: top;\n    }\n\n    .dataframe thead th {\n        text-align: right;\n    }\n</style>\n<table border=\"1\" class=\"dataframe\">\n  <thead>\n    <tr style=\"text-align: right;\">\n      <th></th>\n      <th>task_id</th>\n      <th>split</th>\n      <th>task_type</th>\n      <th>focus_object</th>\n      <th>base_object</th>\n      <th>dest_object</th>\n      <th>scene</th>\n      <th>num_steps</th>\n      <th>steps_num_toks</th>\n      <th>task_num_toks</th>\n      <th>timesteps</th>\n      <th>nav_count</th>\n      <th>interact_count</th>\n    </tr>\n  </thead>\n  <tbody>\n    <tr>\n      <th>0</th>\n      <td>trial_T20190909_121908_219603</td>\n      <td>valid_seen</td>\n      <td>pick_clean_then_place_in_recep</td>\n      <td>Ladle</td>\n      <td>None</td>\n      <td>CounterTop</td>\n      <td>8</td>\n      <td>6.0</td>\n      <td>67.333333</td>\n      <td>7.666667</td>\n      <td>38</td>\n      <td>32</td>\n      <td>6</td>\n    </tr>\n    <tr>\n      <th>1</th>\n      <td>trial_T20190906_162502_940304</td>\n      <td>valid_seen</td>\n      <td>pick_and_place_simple</td>\n      <td>Cloth</td>\n      <td>None</td>\n      <td>BathtubBasin</td>\n      <td>405</td>\n      <td>4.0</td>\n      <td>38.666667</td>\n      <td>8.666667</td>\n      <td>28</td>\n      <td>24</td>\n      <td>4</td>\n    </tr>\n    <tr>\n      <th>2</th>\n      <td>trial_T20190907_033843_707544</td>\n      <td>valid_seen</td>\n      <td>pick_two_obj_and_place</td>\n      <td>SprayBottle</td>\n      <td>None</td>\n      <td>Toilet</td>\n      <td>429</td>\n      <td>8.0</td>\n      <td>89.800000</td>\n      <td>7.800000</td>\n      <td>76</td>\n      <td>72</td>\n      <td>4</td>\n    </tr>\n    <tr>\n      <th>3</th>\n      <td>trial_T20190908_134410_550530</td>\n      <td>valid_seen</td>\n      <td>pick_and_place_with_movable_recep</td>\n      <td>TomatoSliced</td>\n      <td>Pan</td>\n      <td>Fridge</td>\n      <td>16</td>\n      <td>13.0</td>\n      <td>163.000000</td>\n      <td>13.333333</td>\n      <td>136</td>\n      <td>127</td>\n      <td>9</td>\n    </tr>\n    <tr>\n      <th>4</th>\n      <td>trial_T20190908_070424_700178</td>\n      <td>valid_seen</td>\n      <td>pick_heat_then_place_in_recep</td>\n      <td>BreadSliced</td>\n      <td>None</td>\n      <td>Fridge</td>\n      <td>19</td>\n      <td>12.0</td>\n      <td>110.333333</td>\n      <td>12.000000</td>\n      <td>92</td>\n      <td>75</td>\n      <td>17</td>\n    </tr>\n    <tr>\n      <th>...</th>\n      <td>...</td>\n      <td>...</td>\n      <td>...</td>\n      <td>...</td>\n      <td>...</td>\n      <td>...</td>\n      <td>...</td>\n      <td>...</td>\n      <td>...</td>\n      <td>...</td>\n      <td>...</td>\n      <td>...</td>\n      <td>...</td>\n    </tr>\n    <tr>\n      <th>246</th>\n      <td>trial_T20190909_082320_103350</td>\n      <td>valid_seen</td>\n      <td>pick_heat_then_place_in_recep</td>\n      <td>Tomato</td>\n      <td>None</td>\n      <td>Fridge</td>\n      <td>23</td>\n      <td>6.0</td>\n      <td>71.000000</td>\n      <td>10.000000</td>\n      <td>61</td>\n      <td>47</td>\n      <td>14</td>\n    </tr>\n    <tr>\n      <th>247</th>\n      <td>trial_T20190908_033721_967359</td>\n      <td>valid_seen</td>\n      <td>pick_heat_then_place_in_recep</td>\n      <td>Tomato</td>\n      <td>None</td>\n      <td>Fridge</td>\n      <td>24</td>\n      <td>6.0</td>\n      <td>76.666667</td>\n      <td>8.000000</td>\n      <td>48</td>\n      <td>36</td>\n      <td>12</td>\n    </tr>\n    <tr>\n      <th>248</th>\n      <td>trial_T20190906_192823_237997</td>\n      <td>valid_seen</td>\n      <td>pick_cool_then_place_in_recep</td>\n      <td>Cup</td>\n      <td>None</td>\n      <td>SideTable</td>\n      <td>21</td>\n      <td>6.0</td>\n      <td>123.000000</td>\n      <td>9.000000</td>\n      <td>58</td>\n      <td>50</td>\n      <td>8</td>\n    </tr>\n    <tr>\n      <th>249</th>\n      <td>trial_T20190908_124829_632660</td>\n      <td>valid_seen</td>\n      <td>pick_and_place_simple</td>\n      <td>Tomato</td>\n      <td>None</td>\n      <td>Microwave</td>\n      <td>13</td>\n      <td>4.0</td>\n      <td>57.333333</td>\n      <td>7.000000</td>\n      <td>29</td>\n      <td>25</td>\n      <td>4</td>\n    </tr>\n    <tr>\n      <th>250</th>\n      <td>trial_T20190909_020200_054379</td>\n      <td>valid_seen</td>\n      <td>pick_heat_then_place_in_recep</td>\n      <td>Tomato</td>\n      <td>None</td>\n      <td>Fridge</td>\n      <td>15</td>\n      <td>6.0</td>\n      <td>88.333333</td>\n      <td>8.000000</td>\n      <td>58</td>\n      <td>44</td>\n      <td>14</td>\n    </tr>\n  </tbody>\n</table>\n<p>251 rows × 13 columns</p>\n</div>"
     },
     "metadata": {},
     "execution_count": 34
    }
   ],
   "source": [
    "stats_df"
   ]
  },
  {
   "cell_type": "code",
   "execution_count": null,
   "metadata": {},
   "outputs": [],
   "source": []
  }
 ]
}