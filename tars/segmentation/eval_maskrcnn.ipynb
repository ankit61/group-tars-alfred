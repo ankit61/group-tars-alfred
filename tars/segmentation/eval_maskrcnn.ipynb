{
 "metadata": {
  "language_info": {
   "codemirror_mode": {
    "name": "ipython",
    "version": 3
   },
   "file_extension": ".py",
   "mimetype": "text/x-python",
   "name": "python",
   "nbconvert_exporter": "python",
   "pygments_lexer": "ipython3",
   "version": "3.6.9"
  },
  "orig_nbformat": 2,
  "kernelspec": {
   "name": "python3",
   "display_name": "Python 3.6.9 64-bit",
   "metadata": {
    "interpreter": {
     "hash": "255e6ffd032f41bec86b618850ab57c89c6b7197d8abd64efbdd44de5437f377"
    }
   }
  }
 },
 "nbformat": 4,
 "nbformat_minor": 2,
 "cells": [
  {
   "cell_type": "code",
   "execution_count": 9,
   "metadata": {},
   "outputs": [],
   "source": [
    "import utils\n",
    "import torch\n",
    "import transforms as T\n",
    "import torchvision\n",
    "\n",
    "from tqdm import tqdm\n",
    "from engine import train_one_epoch, evaluate\n",
    "from tars.base.dataset import DatasetType\n",
    "from tars.datasets.instance_segmentation_dataset import InstanceSegmentationDataset\n",
    "from torchvision.models.detection import maskrcnn_resnet50_fpn\n",
    "\n",
    "\n",
    "def get_transform(train):\n",
    "    transforms = []\n",
    "    # converts the image, a PIL image, into a PyTorch Tensor\n",
    "    transforms.append(T.ToTensor())\n",
    "    return T.Compose(transforms)"
   ]
  },
  {
   "cell_type": "code",
   "execution_count": 6,
   "metadata": {},
   "outputs": [],
   "source": [
    "split = DatasetType.VAL_UNSEEN\n",
    "dataset = InstanceSegmentationDataset(split, transforms=get_transform(train=False))\n",
    "# indices = torch.randperm(256).tolist()\n",
    "# dataset = torch.utils.data.Subset(dataset, indices)\n",
    "\n",
    "data_loader = torch.utils.data.DataLoader(\n",
    "    dataset, batch_size=16, shuffle=False, num_workers=4,\n",
    "    collate_fn=utils.collate_fn)"
   ]
  },
  {
   "cell_type": "code",
   "execution_count": 7,
   "metadata": {},
   "outputs": [
    {
     "output_type": "execute_result",
     "data": {
      "text/plain": [
       "14418"
      ]
     },
     "metadata": {},
     "execution_count": 7
    }
   ],
   "source": [
    "len(dataset)"
   ]
  },
  {
   "cell_type": "code",
   "execution_count": 10,
   "metadata": {},
   "outputs": [
    {
     "output_type": "stream",
     "name": "stderr",
     "text": [
      "100%|██████████| 14418/14418 [10:03<00:00, 23.89it/s]\n"
     ]
    }
   ],
   "source": [
    "for i in tqdm(range(len(dataset))):\n",
    "    img, tgt = dataset[i]\n",
    "    assert(tgt != None)\n",
    "    assert(tgt[\"labels\"].shape[0] > 0)\n",
    "    assert(tgt[\"labels\"].shape[0] == tgt[\"boxes\"].shape[0])\n",
    "    assert(tgt[\"boxes\"].shape[0] == tgt[\"masks\"].shape[0])"
   ]
  },
  {
   "cell_type": "code",
   "execution_count": 11,
   "metadata": {},
   "outputs": [],
   "source": [
    "device = torch.device('cuda:2')\n",
    "maskrcnn = maskrcnn_resnet50_fpn(num_classes=119)\n",
    "maskrcnn.eval()\n",
    "maskrcnn.load_state_dict(torch.load('../moca/weight_maskrcnn.pt'))\n",
    "maskrcnn = maskrcnn.to(device)"
   ]
  },
  {
   "cell_type": "code",
   "execution_count": 12,
   "metadata": {},
   "outputs": [
    {
     "output_type": "stream",
     "name": "stderr",
     "text": [
      "100%|██████████| 14418/14418 [12:18<00:00, 19.53it/s]\n",
      "creating index...\n",
      "index created!\n",
      "Test:  [  0/902]  eta: 2:53:11  model_time: 6.1048 (6.1048)  evaluator_time: 1.6024 (1.6024)  time: 11.5207  data: 2.4327  max mem: 174\n",
      "Test:  [100/902]  eta: 0:35:51  model_time: 1.3293 (1.5677)  evaluator_time: 0.7518 (0.9722)  time: 2.2987  data: 0.0437  max mem: 174\n",
      "Test:  [200/902]  eta: 0:30:52  model_time: 1.5477 (1.5486)  evaluator_time: 0.9313 (0.9665)  time: 2.5630  data: 0.0440  max mem: 174\n",
      "Test:  [300/902]  eta: 0:26:21  model_time: 1.5693 (1.5431)  evaluator_time: 0.9378 (0.9631)  time: 2.5215  data: 0.0431  max mem: 174\n",
      "Test:  [400/902]  eta: 0:22:04  model_time: 1.5698 (1.5510)  evaluator_time: 0.9487 (0.9704)  time: 2.6030  data: 0.0434  max mem: 174\n",
      "Test:  [500/902]  eta: 0:18:11  model_time: 1.3348 (1.6039)  evaluator_time: 0.7307 (0.9862)  time: 2.3753  data: 0.0435  max mem: 174\n",
      "Test:  [600/902]  eta: 0:13:31  model_time: 1.5155 (1.5876)  evaluator_time: 0.9315 (0.9757)  time: 2.5272  data: 0.0433  max mem: 174\n",
      "Test:  [700/902]  eta: 0:09:03  model_time: 1.4283 (1.5905)  evaluator_time: 0.8601 (0.9775)  time: 2.5449  data: 0.0443  max mem: 174\n",
      "Test:  [800/902]  eta: 0:05:00  model_time: 1.7170 (1.7419)  evaluator_time: 1.1069 (1.0340)  time: 2.8851  data: 0.0443  max mem: 174\n",
      "Test:  [900/902]  eta: 0:00:05  model_time: 1.6118 (1.7299)  evaluator_time: 1.0448 (1.0367)  time: 3.0268  data: 0.0461  max mem: 174\n",
      "Test:  [901/902]  eta: 0:00:02  model_time: 1.6118 (1.7283)  evaluator_time: 1.0448 (1.0357)  time: 2.9158  data: 0.0450  max mem: 174\n",
      "Test: Total time: 0:44:00 (2.9272 s / it)\n",
      "Averaged stats: model_time: 1.6118 (1.7283)  evaluator_time: 1.0448 (1.0357)\n",
      "Accumulating evaluation results...\n",
      "DONE (t=37.28s).\n",
      "Accumulating evaluation results...\n",
      "DONE (t=39.22s).\n",
      "IoU metric: bbox\n",
      " Average Precision  (AP) @[ IoU=0.50:0.95 | area=   all | maxDets=100 ] = 0.382\n",
      " Average Precision  (AP) @[ IoU=0.50      | area=   all | maxDets=100 ] = 0.548\n",
      " Average Precision  (AP) @[ IoU=0.75      | area=   all | maxDets=100 ] = 0.434\n",
      " Average Precision  (AP) @[ IoU=0.50:0.95 | area= small | maxDets=100 ] = 0.146\n",
      " Average Precision  (AP) @[ IoU=0.50:0.95 | area=medium | maxDets=100 ] = 0.400\n",
      " Average Precision  (AP) @[ IoU=0.50:0.95 | area= large | maxDets=100 ] = 0.540\n",
      " Average Recall     (AR) @[ IoU=0.50:0.95 | area=   all | maxDets=  1 ] = 0.448\n",
      " Average Recall     (AR) @[ IoU=0.50:0.95 | area=   all | maxDets= 10 ] = 0.513\n",
      " Average Recall     (AR) @[ IoU=0.50:0.95 | area=   all | maxDets=100 ] = 0.515\n",
      " Average Recall     (AR) @[ IoU=0.50:0.95 | area= small | maxDets=100 ] = 0.240\n",
      " Average Recall     (AR) @[ IoU=0.50:0.95 | area=medium | maxDets=100 ] = 0.539\n",
      " Average Recall     (AR) @[ IoU=0.50:0.95 | area= large | maxDets=100 ] = 0.651\n",
      "IoU metric: segm\n",
      " Average Precision  (AP) @[ IoU=0.50:0.95 | area=   all | maxDets=100 ] = 0.369\n",
      " Average Precision  (AP) @[ IoU=0.50      | area=   all | maxDets=100 ] = 0.517\n",
      " Average Precision  (AP) @[ IoU=0.75      | area=   all | maxDets=100 ] = 0.410\n",
      " Average Precision  (AP) @[ IoU=0.50:0.95 | area= small | maxDets=100 ] = 0.135\n",
      " Average Precision  (AP) @[ IoU=0.50:0.95 | area=medium | maxDets=100 ] = 0.394\n",
      " Average Precision  (AP) @[ IoU=0.50:0.95 | area= large | maxDets=100 ] = 0.550\n",
      " Average Recall     (AR) @[ IoU=0.50:0.95 | area=   all | maxDets=  1 ] = 0.433\n",
      " Average Recall     (AR) @[ IoU=0.50:0.95 | area=   all | maxDets= 10 ] = 0.491\n",
      " Average Recall     (AR) @[ IoU=0.50:0.95 | area=   all | maxDets=100 ] = 0.492\n",
      " Average Recall     (AR) @[ IoU=0.50:0.95 | area= small | maxDets=100 ] = 0.233\n",
      " Average Recall     (AR) @[ IoU=0.50:0.95 | area=medium | maxDets=100 ] = 0.528\n",
      " Average Recall     (AR) @[ IoU=0.50:0.95 | area= large | maxDets=100 ] = 0.629\n"
     ]
    }
   ],
   "source": [
    "results = evaluate(maskrcnn, data_loader, device=device)"
   ]
  },
  {
   "cell_type": "code",
   "execution_count": null,
   "metadata": {},
   "outputs": [],
   "source": []
  }
 ]
}