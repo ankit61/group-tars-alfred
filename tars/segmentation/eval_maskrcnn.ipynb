{
 "metadata": {
  "language_info": {
   "codemirror_mode": {
    "name": "ipython",
    "version": 3
   },
   "file_extension": ".py",
   "mimetype": "text/x-python",
   "name": "python",
   "nbconvert_exporter": "python",
   "pygments_lexer": "ipython3",
   "version": "3.6.9"
  },
  "orig_nbformat": 2,
  "kernelspec": {
   "name": "python3",
   "display_name": "Python 3.6.9 64-bit",
   "metadata": {
    "interpreter": {
     "hash": "255e6ffd032f41bec86b618850ab57c89c6b7197d8abd64efbdd44de5437f377"
    }
   }
  }
 },
 "nbformat": 4,
 "nbformat_minor": 2,
 "cells": [
  {
   "cell_type": "code",
   "execution_count": 1,
   "metadata": {},
   "outputs": [],
   "source": [
    "import utils\n",
    "import torch\n",
    "import transforms as T\n",
    "import torchvision\n",
    "\n",
    "from engine import train_one_epoch, evaluate\n",
    "from tars.base.dataset import DatasetType\n",
    "from tars.datasets.instance_segmentation_dataset import InstanceSegmentationDataset\n",
    "from torchvision.models.detection import maskrcnn_resnet50_fpn\n",
    "\n",
    "\n",
    "def get_transform(train):\n",
    "    transforms = []\n",
    "    # converts the image, a PIL image, into a PyTorch Tensor\n",
    "    transforms.append(T.ToTensor())\n",
    "    return T.Compose(transforms)"
   ]
  },
  {
   "cell_type": "code",
   "execution_count": 2,
   "metadata": {},
   "outputs": [],
   "source": [
    "dataset_valid_seen = InstanceSegmentationDataset(DatasetType.VAL_SEEN, transforms=get_transform(train=False))\n",
    "# indices = torch.randperm(256).tolist()\n",
    "# dataset_valid_seen = torch.utils.data.Subset(dataset_valid_seen, indices)\n",
    "\n",
    "data_loader_valid_seen = torch.utils.data.DataLoader(\n",
    "    dataset_valid_seen, batch_size=16, shuffle=False, num_workers=4,\n",
    "    collate_fn=utils.collate_fn)"
   ]
  },
  {
   "cell_type": "code",
   "execution_count": 3,
   "metadata": {},
   "outputs": [
    {
     "output_type": "execute_result",
     "data": {
      "text/plain": [
       "14965"
      ]
     },
     "metadata": {},
     "execution_count": 3
    }
   ],
   "source": [
    "len(dataset_valid_seen)"
   ]
  },
  {
   "cell_type": "code",
   "execution_count": 5,
   "metadata": {},
   "outputs": [],
   "source": [
    "device = torch.device('cuda:2')\n",
    "maskrcnn = maskrcnn_resnet50_fpn(num_classes=119)\n",
    "maskrcnn.eval()\n",
    "maskrcnn.load_state_dict(torch.load('../moca/weight_maskrcnn.pt'))\n",
    "maskrcnn = maskrcnn.to(device)"
   ]
  },
  {
   "cell_type": "code",
   "execution_count": 7,
   "metadata": {},
   "outputs": [
    {
     "output_type": "stream",
     "name": "stderr",
     "text": [
      "100%|██████████| 14965/14965 [09:19<00:00, 26.75it/s]\n",
      "creating index...\n",
      "index created!\n",
      "Test:  [  0/936]  eta: 0:54:37  model_time: 1.4210 (1.4210)  evaluator_time: 0.8459 (0.8459)  time: 3.5018  data: 1.1971  max mem: 174\n",
      "Test:  [100/936]  eta: 0:32:27  model_time: 1.3680 (1.3483)  evaluator_time: 0.8772 (0.8717)  time: 2.3318  data: 0.0443  max mem: 174\n",
      "Test:  [200/936]  eta: 0:28:07  model_time: 1.4334 (1.3390)  evaluator_time: 0.8866 (0.8517)  time: 2.5174  data: 0.0437  max mem: 174\n",
      "Test:  [300/936]  eta: 0:24:12  model_time: 1.1563 (1.3323)  evaluator_time: 0.6951 (0.8488)  time: 1.9768  data: 0.0445  max mem: 174\n",
      "Test:  [400/936]  eta: 0:20:21  model_time: 1.2043 (1.3306)  evaluator_time: 0.7726 (0.8486)  time: 2.1566  data: 0.0446  max mem: 174\n",
      "Test:  [500/936]  eta: 0:16:28  model_time: 1.4695 (1.3221)  evaluator_time: 0.9952 (0.8469)  time: 2.4880  data: 0.0451  max mem: 174\n",
      "Test:  [600/936]  eta: 0:12:41  model_time: 1.4314 (1.3234)  evaluator_time: 0.9269 (0.8459)  time: 2.5193  data: 0.0454  max mem: 174\n",
      "Test:  [700/936]  eta: 0:08:54  model_time: 1.2812 (1.3215)  evaluator_time: 0.7717 (0.8457)  time: 2.2768  data: 0.0449  max mem: 174\n",
      "Test:  [800/936]  eta: 0:05:08  model_time: 1.4086 (1.3244)  evaluator_time: 0.8680 (0.8466)  time: 2.5312  data: 0.0448  max mem: 174\n",
      "Test:  [900/936]  eta: 0:01:22  model_time: 1.4614 (1.3330)  evaluator_time: 0.8821 (0.8518)  time: 2.4127  data: 0.0454  max mem: 174\n",
      "Test:  [935/936]  eta: 0:00:02  model_time: 1.2047 (1.3274)  evaluator_time: 0.7009 (0.8491)  time: 1.9966  data: 0.0434  max mem: 174\n",
      "Test: Total time: 0:35:28 (2.2738 s / it)\n",
      "Averaged stats: model_time: 1.2047 (1.3274)  evaluator_time: 0.7009 (0.8491)\n",
      "Accumulating evaluation results...\n",
      "DONE (t=27.86s).\n",
      "Accumulating evaluation results...\n",
      "DONE (t=26.61s).\n",
      "IoU metric: bbox\n",
      " Average Precision  (AP) @[ IoU=0.50:0.95 | area=   all | maxDets=100 ] = 0.588\n",
      " Average Precision  (AP) @[ IoU=0.50      | area=   all | maxDets=100 ] = 0.801\n",
      " Average Precision  (AP) @[ IoU=0.75      | area=   all | maxDets=100 ] = 0.680\n",
      " Average Precision  (AP) @[ IoU=0.50:0.95 | area= small | maxDets=100 ] = 0.244\n",
      " Average Precision  (AP) @[ IoU=0.50:0.95 | area=medium | maxDets=100 ] = 0.615\n",
      " Average Precision  (AP) @[ IoU=0.50:0.95 | area= large | maxDets=100 ] = 0.744\n",
      " Average Recall     (AR) @[ IoU=0.50:0.95 | area=   all | maxDets=  1 ] = 0.585\n",
      " Average Recall     (AR) @[ IoU=0.50:0.95 | area=   all | maxDets= 10 ] = 0.666\n",
      " Average Recall     (AR) @[ IoU=0.50:0.95 | area=   all | maxDets=100 ] = 0.667\n",
      " Average Recall     (AR) @[ IoU=0.50:0.95 | area= small | maxDets=100 ] = 0.350\n",
      " Average Recall     (AR) @[ IoU=0.50:0.95 | area=medium | maxDets=100 ] = 0.701\n",
      " Average Recall     (AR) @[ IoU=0.50:0.95 | area= large | maxDets=100 ] = 0.800\n",
      "IoU metric: segm\n",
      " Average Precision  (AP) @[ IoU=0.50:0.95 | area=   all | maxDets=100 ] = 0.516\n",
      " Average Precision  (AP) @[ IoU=0.50      | area=   all | maxDets=100 ] = 0.739\n",
      " Average Precision  (AP) @[ IoU=0.75      | area=   all | maxDets=100 ] = 0.565\n",
      " Average Precision  (AP) @[ IoU=0.50:0.95 | area= small | maxDets=100 ] = 0.198\n",
      " Average Precision  (AP) @[ IoU=0.50:0.95 | area=medium | maxDets=100 ] = 0.547\n",
      " Average Precision  (AP) @[ IoU=0.50:0.95 | area= large | maxDets=100 ] = 0.691\n",
      " Average Recall     (AR) @[ IoU=0.50:0.95 | area=   all | maxDets=  1 ] = 0.528\n",
      " Average Recall     (AR) @[ IoU=0.50:0.95 | area=   all | maxDets= 10 ] = 0.603\n",
      " Average Recall     (AR) @[ IoU=0.50:0.95 | area=   all | maxDets=100 ] = 0.604\n",
      " Average Recall     (AR) @[ IoU=0.50:0.95 | area= small | maxDets=100 ] = 0.331\n",
      " Average Recall     (AR) @[ IoU=0.50:0.95 | area=medium | maxDets=100 ] = 0.640\n",
      " Average Recall     (AR) @[ IoU=0.50:0.95 | area= large | maxDets=100 ] = 0.733\n"
     ]
    }
   ],
   "source": [
    "results = evaluate(maskrcnn, data_loader_valid_seen, device=device)"
   ]
  },
  {
   "cell_type": "code",
   "execution_count": null,
   "metadata": {},
   "outputs": [],
   "source": []
  }
 ]
}