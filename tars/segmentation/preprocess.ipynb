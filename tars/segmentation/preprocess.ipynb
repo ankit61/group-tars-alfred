{
 "metadata": {
  "language_info": {
   "codemirror_mode": {
    "name": "ipython",
    "version": 3
   },
   "file_extension": ".py",
   "mimetype": "text/x-python",
   "name": "python",
   "nbconvert_exporter": "python",
   "pygments_lexer": "ipython3",
   "version": "3.6.8"
  },
  "orig_nbformat": 2,
  "kernelspec": {
   "name": "python3",
   "display_name": "Python 3.6.8 64-bit ('tars-env')",
   "metadata": {
    "interpreter": {
     "hash": "bac12fe466a944f533b19a5350aef698ea50a6c5fa8f0dcdfc904a7a6c3fbffd"
    }
   }
  }
 },
 "nbformat": 4,
 "nbformat_minor": 2,
 "cells": [
  {
   "cell_type": "code",
   "execution_count": 1,
   "metadata": {},
   "outputs": [],
   "source": [
    "import os\n",
    "import argparse\n",
    "import numpy as np\n",
    "import json\n",
    "from tqdm import tqdm\n",
    "from tars.base.dataset import Dataset, DatasetType\n",
    "from tars.config.base.dataset_config import DatasetConfig\n",
    "from tars.datasets.instance_segmentation_dataset import InstanceSegmentationDataset"
   ]
  },
  {
   "cell_type": "code",
   "execution_count": 2,
   "metadata": {},
   "outputs": [],
   "source": [
    "def get_instance_target(raw_mask_image, task_dir):\n",
    "    with open(os.path.join(task_dir, 'augmented_traj_data.json'), 'r') as f:\n",
    "        color_data = json.load(f)['scene']['color_to_object_type'] \n",
    "\n",
    "    mask_image = np.array(raw_mask_image)\n",
    "    boxes = []\n",
    "    labels = []\n",
    "    masks = []\n",
    "    \n",
    "    for k in color_data:\n",
    "        # get object mask\n",
    "        obj_idx = DatasetConfig.objects_vocab.word2index(color_data[k]['objectType'])\n",
    "        k = tuple(map(int, k.strip('()').split(', ')))\n",
    "        obj_mask = (mask_image[:, :, 0] == k[2]) & (mask_image[:, :, 1] == k[1]) & (mask_image[:, :, 2] == k[0])\n",
    "\n",
    "        # get object bounding box coordinates\n",
    "        pos = np.where(obj_mask)\n",
    "        if len(pos[0]) + len(pos[1]) > 0:\n",
    "            xmin = np.min(pos[1])\n",
    "            xmax = np.max(pos[1])\n",
    "            ymin = np.min(pos[0])\n",
    "            ymax = np.max(pos[0])\n",
    "            boxes.append([xmin, ymin, xmax, ymax])\n",
    "            labels.append(obj_idx)\n",
    "            masks.append(obj_mask)\n",
    "\n",
    "    # convert to numpy arrays\n",
    "    boxes = np.asarray(boxes, dtype=np.float32)\n",
    "    labels = np.asarray(labels, dtype=np.int64)\n",
    "    masks = np.asarray(masks, dtype=np.uint8)\n",
    "    \n",
    "    return boxes, labels, masks"
   ]
  },
  {
   "cell_type": "code",
   "execution_count": 3,
   "metadata": {},
   "outputs": [
    {
     "output_type": "stream",
     "name": "stderr",
     "text": [
      "100%|██████████| 14529/14529 [55:45<00:00,  4.34it/s]bad targets: 111/14529\n",
      "\n"
     ]
    }
   ],
   "source": [
    "split = \"valid_unseen\"\n",
    "dataset = InstanceSegmentationDataset(DatasetType(split), preprocess=True)\n",
    "remove_rgbs = []\n",
    "remove_masks = []\n",
    "for idx in tqdm(range(len(dataset))):\n",
    "    rgb_img, mask_img = dataset[idx]\n",
    "    task_dir = os.path.dirname(os.path.dirname(rgb_img.filename))\n",
    "    boxes, labels, masks = get_instance_target(mask_img, task_dir)\n",
    "    if boxes.shape[0] == 0:\n",
    "        # bad target, add images to deletion lists\n",
    "        remove_rgbs.append(rgb_img.filename)\n",
    "        remove_masks.append(mask_img.filename)\n",
    "    else:\n",
    "        # save target\n",
    "        new_target_file = rgb_img.filename.replace(DatasetConfig.high_res_img_dir, DatasetConfig.instance_target_dir).replace(\"png\", \"npz\")\n",
    "        new_target_dir = os.path.dirname(new_target_file)\n",
    "        os.makedirs(new_target_dir, exist_ok=True)\n",
    "        np.savez_compressed(new_target_file, boxes, labels, masks)\n",
    "print(f\"\\nbad targets: {len(remove_rgbs)}/{len(dataset)}\")"
   ]
  },
  {
   "cell_type": "code",
   "execution_count": 4,
   "metadata": {},
   "outputs": [],
   "source": [
    "# delete images corresponding to bad targets\n",
    "for rgb_file in remove_rgbs:\n",
    "    os.remove(rgb_file)\n",
    "for mask_file in remove_masks:\n",
    "    os.remove(mask_file)"
   ]
  },
  {
   "cell_type": "code",
   "execution_count": 7,
   "metadata": {},
   "outputs": [],
   "source": [
    "dataset = InstanceSegmentationDataset(DatasetType(split))"
   ]
  },
  {
   "cell_type": "code",
   "execution_count": 8,
   "metadata": {},
   "outputs": [
    {
     "output_type": "execute_result",
     "data": {
      "text/plain": [
       "14418"
      ]
     },
     "metadata": {},
     "execution_count": 8
    }
   ],
   "source": [
    "len(dataset)"
   ]
  },
  {
   "cell_type": "code",
   "execution_count": 9,
   "metadata": {},
   "outputs": [
    {
     "output_type": "stream",
     "name": "stderr",
     "text": [
      "100%|██████████| 14418/14418 [02:19<00:00, 103.60it/s]\n"
     ]
    }
   ],
   "source": [
    "# verify the dataset\n",
    "for i in tqdm(range(len(dataset))):\n",
    "    img, tgt = dataset[i]\n",
    "    assert(tgt != None)\n",
    "    assert(tgt[\"labels\"].shape[0] > 0)\n",
    "    assert(tgt[\"labels\"].shape[0] == tgt[\"boxes\"].shape[0])\n",
    "    assert(tgt[\"boxes\"].shape[0] == tgt[\"masks\"].shape[0])"
   ]
  },
  {
   "cell_type": "code",
   "execution_count": null,
   "metadata": {},
   "outputs": [],
   "source": []
  }
 ]
}